{
 "cells": [
  {
   "cell_type": "markdown",
   "id": "02f44c80",
   "metadata": {},
   "source": [
    "***GENERATED CODE FOR 29mayformulatest1 PIPELINE.***"
   ]
  },
  {
   "cell_type": "markdown",
   "id": "48e63538",
   "metadata": {},
   "source": [
    "***DON'T EDIT THIS CODE.***"
   ]
  },
  {
   "cell_type": "markdown",
   "id": "c7b8e552",
   "metadata": {},
   "source": [
    "***CONNECTOR FUNCTIONS TO READ DATA.***"
   ]
  },
  {
   "cell_type": "code",
   "execution_count": null,
   "id": "cdd1f06e",
   "metadata": {},
   "outputs": [],
   "source": [
    "import os\n",
    "import datetime\n",
    "import logging\n",
    "import warnings\n",
    "warnings.filterwarnings('ignore')\n",
    "logging.basicConfig(format='%(levelname)s:%(message)s', level=logging.INFO)\n",
    "\n",
    "\n",
    "class HDFSConnector:\n",
    "\n",
    "    def fetch(spark, config):\n",
    "        ################### INPUT HADOOP HOST PORT TO CONNECT WITH ###############################\n",
    "        hdfs_server = str(os.environ['HDFS_SERVER'])\n",
    "        hdfs_port = int(os.environ['HDFS_PORT'])\n",
    "        df = spark.read.options(header='true', inferschema='true').csv(\n",
    "            f\"hdfs://{hdfs_server}:{hdfs_port}{eval(config)['url']}\", header='true')\n",
    "        display(df.limit(2).toPandas())\n",
    "        return df\n",
    "\n",
    "    def put(df, spark, config):\n",
    "        return df.write.format('csv').options(header='true' if eval(config)[\"is_header\"] == \"Use Header Line\" else 'false',\n",
    "                                              delimiter=eval(config)[\"delimiter\"]).save((\"%s %s\") % (datetime.datetime.now().strftime(\"%Y-%m-%d %H.%M.%S\")+\"_\", eval(config)['url']))\n"
   ]
  },
  {
   "cell_type": "markdown",
   "id": "9f507301",
   "metadata": {},
   "source": [
    "***OPERATION FUNCTIONS***"
   ]
  },
  {
   "cell_type": "code",
   "execution_count": null,
   "id": "bee76514",
   "metadata": {},
   "outputs": [],
   "source": [
    "class FormulaOperation:\n",
    "\n",
    "    def run(inStages, inStagesData, stageId, sparkSession, stageAttribs):\n",
    "\n",
    "        formula = \"\"\n",
    "        if stageAttribs[\"use_expression\"]:\n",
    "            for expression in stageAttribs[\"expression\"]:\n",
    "                formula += \"%s %s %s %s\" % (expression[\"combinator\"],\n",
    "                                            expression[\"value1\"],\n",
    "                                            expression[\"operator\"],\n",
    "                                            expression[\"value2\"])\n",
    "        else:\n",
    "            formula = stageAttribs[\"formula\"]\n",
    "\n",
    "        output_field = stageAttribs[\"output_field\"]\n",
    "\n",
    "        if output_field[\"absolute\"]:\n",
    "            formula = \"ABS(%s) as %s\" % (formula, output_field[\"field\"])\n",
    "        else:\n",
    "            formula = \"(%s) as %s\" % (formula, output_field[\"field\"])\n",
    "\n",
    "        inStagesData[inStages[0]].createOrReplaceTempView(\"view%s\" % (stageId))\n",
    "        return sparkSession.sql(\"SELECT *, %s FROM view\" % (formula,\n",
    "                                                            \"view%s\" % (stageId)))\n"
   ]
  },
  {
   "cell_type": "markdown",
   "id": "31a5ca5a",
   "metadata": {},
   "source": [
    "***CONNECTOR FUNCTIONS TO WRITE DATA.***"
   ]
  },
  {
   "cell_type": "code",
   "execution_count": null,
   "id": "9723c741",
   "metadata": {},
   "outputs": [],
   "source": [
    "import datetime\n",
    "import requests\n",
    "import datetime\n",
    "import logging\n",
    "import warnings\n",
    "warnings.filterwarnings('ignore')\n",
    "logging.basicConfig(format='%(levelname)s:%(message)s', level=logging.INFO)\n",
    "\n",
    "\n",
    "class NumtraConnector:\n",
    "\n",
    "    def put(inStages, inStagesData, stageId, spark, config):\n",
    "        path = eval(config)['server_url']\n",
    "        baseType = eval(config)['baseType']\n",
    "        results_url = eval(config)['results_url']\n",
    "        server = eval(config)['server']\n",
    "        originalfile = eval(config)['orignalKey']\n",
    "        eval(config)['pathOnly']\n",
    "        filename = eval(config)['filename']\n",
    "        eval(config)['ser']\n",
    "        eval(config)['user']\n",
    "        eval(config)['password']\n",
    "        eval(config)['authSource']\n",
    "        eval(config)['user_id']\n",
    "        eval(config)['parent_id']\n",
    "        eval(config)['project_id']\n",
    "        time = str(int(datetime.datetime.now().timestamp()))\n",
    "\n",
    "        inStagesData[inStages[0]]\n",
    "\n",
    "        print(path)\n",
    "        print(baseType)\n",
    "        print(results_url)\n",
    "        print(server)\n",
    "        print(originalfile)\n",
    "        print(filename)\n",
    "\n",
    "        args = {\n",
    "            'url': path,\n",
    "            'baseType': baseType,\n",
    "            'originalfile': originalfile,\n",
    "            'filename': time + filename\n",
    "        }\n",
    "\n",
    "        response = requests.post(results_url, args)\n",
    "        return response\n"
   ]
  },
  {
   "cell_type": "markdown",
   "id": "44202856",
   "metadata": {},
   "source": [
    "***READING DATAFRAME***"
   ]
  },
  {
   "cell_type": "code",
   "execution_count": null,
   "id": "bfbdcb9f",
   "metadata": {},
   "outputs": [],
   "source": [
    "############## CREATE SPARK SESSION ############################ ENTER YOUR SPARK MASTER IP AND PORT TO CONNECT TO SERVER ################\n",
    "from pyspark.sql import SparkSession\n",
    "spark = SparkSession.builder.master('local[1]').getOrCreate()\n",
    "#%run 29mayformulatest1Hooks.ipynb\n",
    "try:\n",
    "\t#sourcePreExecutionHook()\n",
    "\n",
    "\theartfailurefutureaerx = HDFSConnector.fetch(spark, \"{'url': '/FileStore/platform/testdata/1714041767805_HeartFailureFuture.csv', 'filename': 'HeartFailureFuture.csv', 'delimiter': ',', 'file_type': 'Delimeted', 'dbfs_token': '', 'dbfs_domain': '', 'FilePath': '/OperatorsTest/HeartFailureFuture.csv', 'viewFileName': 'HeartFailureFuture.csv', 'is_header': 'Use Header Line', 'baseType': 'hdfs', 'server_url': '/nexusMax/NexusMaxPlatform/uploads/platform/', 'results_url': 'http://dnm.bfirst.ai:44040/api/read/hdfs'}\")\n",
    "\n",
    "except Exception as ex: \n",
    "\tlogging.error(ex)\n",
    "#spark.stop()\n"
   ]
  },
  {
   "cell_type": "markdown",
   "id": "09c9072e",
   "metadata": {},
   "source": [
    "***PERFORMING OPERATIONS***"
   ]
  },
  {
   "cell_type": "code",
   "execution_count": null,
   "id": "f381a5aa",
   "metadata": {},
   "outputs": [],
   "source": [
    "#%run 29mayformulatest1Hooks.ipynb\n",
    "try:\n",
    "\tformula = FormulaOperation.run([\"665719a57bda2cdf975e2309\"],{\"665719a57bda2cdf975e2309\": heartfailurefutureaerx}, \"665719aa7bda2cdf975e230d\", spark, \"{'dataType': 'numeric', 'dataTypes': ['numeric', 'real'], 'SelectedColumns': ['age', 'smoking'], 'functionData': {'functionName': 'formula', 'applyOn': [{'columnName': 'age', 'type': 'numeric', 'disable': False}, {'columnName': 'smoking', 'type': 'numeric', 'disable': False}], 'functionsData': [{'operand1': 'age', 'operator': 'add', 'operand2': 'smoking', 'outputColumn': 'newColumn', 'useNext': 0, 'column': [{'Columndata': {'columnName': 'age', 'type': 'numeric', 'disable': False}}, {'Columndata': {'columnName': 'smoking', 'type': 'numeric', 'disable': False}}, {'Columndata': ''}], 'newColumnName': 'SmokingAge'}]}, 'allColumns': [{'columnName': 'age', 'type': 'numeric', 'disable': False}, {'columnName': 'anaemia', 'type': 'numeric', 'disable': False}, {'columnName': 'creatinine_phosphokinase', 'type': 'numeric', 'disable': False}, {'columnName': 'diabetes', 'type': 'numeric', 'disable': False}, {'columnName': 'ejection_fraction', 'type': 'numeric', 'disable': False}, {'columnName': 'high_blood_pressure', 'type': 'numeric', 'disable': False}, {'columnName': 'platelets', 'type': 'real', 'disable': True}, {'columnName': 'serum_creatinine', 'type': 'real', 'disable': True}, {'columnName': 'serum_sodium', 'type': 'numeric', 'disable': False}, {'columnName': 'sex', 'type': 'numeric', 'disable': False}, {'columnName': 'smoking', 'type': 'numeric', 'disable': False}, {'columnName': 'time', 'type': 'numeric', 'disable': False}], 'url': '/FileStore/platform/testdata/1714041767805_HeartFailureFuture.csv', 'SelectedColumnsData': [{'columnName': 'age', 'type': 'numeric', 'disable': False}, {'columnName': 'smoking', 'type': 'numeric', 'disable': False}], 'newColumnName': 'SmokingAge', 'server_url': '/nexusMax/NexusMaxPlatform/uploads/platform/'}\")\n",
    "\n",
    "except Exception as ex: \n",
    "\tlogging.error(ex)\n"
   ]
  },
  {
   "cell_type": "markdown",
   "id": "4fd7f588",
   "metadata": {},
   "source": [
    "***WRITING DATAFRAME***"
   ]
  },
  {
   "cell_type": "code",
   "execution_count": null,
   "id": "e6f7a4b3",
   "metadata": {},
   "outputs": [],
   "source": [
    "#%run 29mayformulatest1Hooks.ipynb\n",
    "try:\n",
    "\t#sinkPreExecutionHook()\n",
    "\n",
    "\toperatorstestoutput = NumtraConnector.fetch(spark, \"{'samplefile': '/FileStore/platform/sampleData/665719a57bda2cdf975e2309/part-00000-6bf16ddc-f76d-4e7d-9ca0-9a6fd36b0b4e-c000.csv', 'samplecount': 61, 'originalcount': 61, 'orignalKey': '/FileStore/platform/testdata/1714041767805_HeartFailureFuture.csv', 'pathOnly': '/OperatorsTest', 'project_id': '66279e60b6d893f4c9a9ec43', 'parent_id': '66279e60b6d893f4c9a9ec43', 'original_schema': [{'checked': True, 'inherited': True, 'is_categorical': False, 'bad_values': '', 'nullable': 'true', '_id': '66571a8e7bda2cdf975e2367', 'field': 'age', 'alias': 'age', 'type': 'numeric', 'position': '0'}, {'checked': True, 'inherited': True, 'is_categorical': False, 'bad_values': '', 'nullable': 'true', '_id': '66571a8e7bda2cdf975e2368', 'field': 'anaemia', 'alias': 'anaemia', 'type': 'numeric', 'position': '1'}, {'checked': True, 'inherited': True, 'is_categorical': False, 'bad_values': '', 'nullable': 'true', '_id': '66571a8e7bda2cdf975e2369', 'field': 'creatinine_phosphokinase', 'alias': 'creatinine_phosphokinase', 'type': 'numeric', 'position': '2'}, {'checked': True, 'inherited': True, 'is_categorical': False, 'bad_values': '', 'nullable': 'true', '_id': '66571a8e7bda2cdf975e236a', 'field': 'diabetes', 'alias': 'diabetes', 'type': 'numeric', 'position': '3'}, {'checked': True, 'inherited': True, 'is_categorical': False, 'bad_values': '', 'nullable': 'true', '_id': '66571a8e7bda2cdf975e236b', 'field': 'ejection_fraction', 'alias': 'ejection_fraction', 'type': 'numeric', 'position': '4'}, {'checked': True, 'inherited': True, 'is_categorical': False, 'bad_values': '', 'nullable': 'true', '_id': '66571a8e7bda2cdf975e236c', 'field': 'high_blood_pressure', 'alias': 'high_blood_pressure', 'type': 'numeric', 'position': '5'}, {'checked': True, 'inherited': True, 'is_categorical': False, 'bad_values': '', 'nullable': 'true', '_id': '66571a8e7bda2cdf975e236d', 'field': 'platelets', 'alias': 'platelets', 'type': 'real', 'position': '6'}, {'checked': True, 'inherited': True, 'is_categorical': False, 'bad_values': '', 'nullable': 'true', '_id': '66571a8e7bda2cdf975e236e', 'field': 'serum_creatinine', 'alias': 'serum_creatinine', 'type': 'real', 'position': '7'}, {'checked': True, 'inherited': True, 'is_categorical': False, 'bad_values': '', 'nullable': 'true', '_id': '66571a8e7bda2cdf975e236f', 'field': 'serum_sodium', 'alias': 'serum_sodium', 'type': 'numeric', 'position': '8'}, {'checked': True, 'inherited': True, 'is_categorical': False, 'bad_values': '', 'nullable': 'true', '_id': '66571a8e7bda2cdf975e2370', 'field': 'sex', 'alias': 'sex', 'type': 'numeric', 'position': '9'}, {'checked': True, 'inherited': True, 'is_categorical': False, 'bad_values': '', 'nullable': 'true', '_id': '66571a8e7bda2cdf975e2371', 'field': 'smoking', 'alias': 'smoking', 'type': 'numeric', 'position': '10'}, {'checked': True, 'inherited': True, 'is_categorical': False, 'bad_values': '', 'nullable': 'true', '_id': '66571a8e7bda2cdf975e2372', 'field': 'time', 'alias': 'time', 'type': 'numeric', 'position': '11'}], 'actual_schema': [{'checked': True, 'inherited': True, 'is_categorical': False, 'bad_values': '', 'nullable': 'true', '_id': '66571a8e7bda2cdf975e235b', 'field': 'age', 'alias': 'age', 'type': 'numeric', 'position': '0'}, {'checked': True, 'inherited': True, 'is_categorical': False, 'bad_values': '', 'nullable': 'true', '_id': '66571a8e7bda2cdf975e235c', 'field': 'anaemia', 'alias': 'anaemia', 'type': 'numeric', 'position': '1'}, {'checked': True, 'inherited': True, 'is_categorical': False, 'bad_values': '', 'nullable': 'true', '_id': '66571a8e7bda2cdf975e235d', 'field': 'creatinine_phosphokinase', 'alias': 'creatinine_phosphokinase', 'type': 'numeric', 'position': '2'}, {'checked': True, 'inherited': True, 'is_categorical': False, 'bad_values': '', 'nullable': 'true', '_id': '66571a8e7bda2cdf975e235e', 'field': 'diabetes', 'alias': 'diabetes', 'type': 'numeric', 'position': '3'}, {'checked': True, 'inherited': True, 'is_categorical': False, 'bad_values': '', 'nullable': 'true', '_id': '66571a8e7bda2cdf975e235f', 'field': 'ejection_fraction', 'alias': 'ejection_fraction', 'type': 'numeric', 'position': '4'}, {'checked': True, 'inherited': True, 'is_categorical': False, 'bad_values': '', 'nullable': 'true', '_id': '66571a8e7bda2cdf975e2360', 'field': 'high_blood_pressure', 'alias': 'high_blood_pressure', 'type': 'numeric', 'position': '5'}, {'checked': True, 'inherited': True, 'is_categorical': False, 'bad_values': '', 'nullable': 'true', '_id': '66571a8e7bda2cdf975e2361', 'field': 'platelets', 'alias': 'platelets', 'type': 'real', 'position': '6'}, {'checked': True, 'inherited': True, 'is_categorical': False, 'bad_values': '', 'nullable': 'true', '_id': '66571a8e7bda2cdf975e2362', 'field': 'serum_creatinine', 'alias': 'serum_creatinine', 'type': 'real', 'position': '7'}, {'checked': True, 'inherited': True, 'is_categorical': False, 'bad_values': '', 'nullable': 'true', '_id': '66571a8e7bda2cdf975e2363', 'field': 'serum_sodium', 'alias': 'serum_sodium', 'type': 'numeric', 'position': '8'}, {'checked': True, 'inherited': True, 'is_categorical': False, 'bad_values': '', 'nullable': 'true', '_id': '66571a8e7bda2cdf975e2364', 'field': 'sex', 'alias': 'sex', 'type': 'numeric', 'position': '9'}, {'checked': True, 'inherited': True, 'is_categorical': False, 'bad_values': '', 'nullable': 'true', '_id': '66571a8e7bda2cdf975e2365', 'field': 'smoking', 'alias': 'smoking', 'type': 'numeric', 'position': '10'}, {'checked': True, 'inherited': True, 'is_categorical': False, 'bad_values': '', 'nullable': 'true', '_id': '66571a8e7bda2cdf975e2366', 'field': 'time', 'alias': 'time', 'type': 'numeric', 'position': '11'}], 'server': 'https://dnm.bfirst.ai:443', 'server_url': '/nexusMax/NexusMaxPlatform/uploads/platform/', 'delimiter': ',', 'file_type': 'Delimeted', 'filename': 'HeartFFormNewCol.csv', 'token': '', 'domain': '', 'is_header': 'Use Header Line', 'url': '/FileStore/platform/uploadedSourceFiles/part-00000-79fad4e5-db04-40c8-add6-84ee3d7d01e3-c000.csv', 'results_url': 'http://dnm.bfirst.ai:44040/api/read/hdfs'}\")\n",
    "\n",
    "except Exception as ex: \n",
    "\tlogging.error(ex)\n"
   ]
  }
 ],
 "metadata": {},
 "nbformat": 4,
 "nbformat_minor": 5
}
